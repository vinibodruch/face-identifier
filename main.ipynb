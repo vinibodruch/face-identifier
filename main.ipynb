{
 "cells": [
  {
   "cell_type": "code",
   "execution_count": 2,
   "metadata": {},
   "outputs": [
    {
     "name": "stdout",
     "output_type": "stream",
     "text": [
      "Requirement already satisfied: imutils in /home/vinicius/miniconda3/envs/face_detection/lib/python3.8/site-packages (0.5.4)\n",
      "Requirement already satisfied: opencv-python in /home/vinicius/miniconda3/envs/face_detection/lib/python3.8/site-packages (4.10.0.84)\n",
      "Requirement already satisfied: numpy in /home/vinicius/miniconda3/envs/face_detection/lib/python3.8/site-packages (1.24.4)\n",
      "Requirement already satisfied: face_recognition in /home/vinicius/miniconda3/envs/face_detection/lib/python3.8/site-packages (1.3.0)\n",
      "Requirement already satisfied: face-recognition-models>=0.3.0 in /home/vinicius/miniconda3/envs/face_detection/lib/python3.8/site-packages (from face_recognition) (0.3.0)\n",
      "Requirement already satisfied: Click>=6.0 in /home/vinicius/miniconda3/envs/face_detection/lib/python3.8/site-packages (from face_recognition) (8.1.7)\n",
      "Requirement already satisfied: dlib>=19.7 in /home/vinicius/miniconda3/envs/face_detection/lib/python3.8/site-packages (from face_recognition) (19.24.6)\n",
      "Requirement already satisfied: Pillow in /home/vinicius/miniconda3/envs/face_detection/lib/python3.8/site-packages (from face_recognition) (10.4.0)\n",
      "Note: you may need to restart the kernel to use updated packages.\n",
      "CUDA disponível: True\n"
     ]
    }
   ],
   "source": [
    "%pip install imutils opencv-python numpy face_recognition \n",
    "import dlib\n",
    "dlib.DLIB_USE_CUDA = True\n",
    "print(f\"CUDA disponível: {dlib.DLIB_USE_CUDA}\")\n",
    "#print(f\"Número de GPUs disponíveis: {dlib.cuda.get_num_devices()}\")"
   ]
  },
  {
   "cell_type": "code",
   "execution_count": 3,
   "metadata": {},
   "outputs": [
    {
     "ename": "RuntimeError",
     "evalue": "Error while calling cudaGetDevice(&the_device_id) in file /tmp/pip-install-5prnabg4/dlib_622639a74c8e49a8a6f0f43c1946fb7e/dlib/cuda/gpu_data.cpp:204. code: 35, reason: CUDA driver version is insufficient for CUDA runtime version",
     "output_type": "error",
     "traceback": [
      "\u001b[0;31m---------------------------------------------------------------------------\u001b[0m",
      "\u001b[0;31mRuntimeError\u001b[0m                              Traceback (most recent call last)",
      "Cell \u001b[0;32mIn[3], line 3\u001b[0m\n\u001b[1;32m      1\u001b[0m \u001b[38;5;28;01mimport\u001b[39;00m \u001b[38;5;21;01mos\u001b[39;00m\n\u001b[1;32m      2\u001b[0m \u001b[38;5;28;01mimport\u001b[39;00m \u001b[38;5;21;01mcv2\u001b[39;00m\n\u001b[0;32m----> 3\u001b[0m \u001b[38;5;28;01mimport\u001b[39;00m \u001b[38;5;21;01mface_recognition\u001b[39;00m\n\u001b[1;32m      4\u001b[0m \u001b[38;5;28;01mimport\u001b[39;00m \u001b[38;5;21;01mpickle\u001b[39;00m\n\u001b[1;32m      5\u001b[0m \u001b[38;5;28;01mimport\u001b[39;00m \u001b[38;5;21;01mnumpy\u001b[39;00m \u001b[38;5;28;01mas\u001b[39;00m \u001b[38;5;21;01mnp\u001b[39;00m\n",
      "File \u001b[0;32m~/miniconda3/envs/face_detection/lib/python3.8/site-packages/face_recognition/__init__.py:7\u001b[0m\n\u001b[1;32m      4\u001b[0m __email__ \u001b[38;5;241m=\u001b[39m \u001b[38;5;124m'\u001b[39m\u001b[38;5;124mageitgey@gmail.com\u001b[39m\u001b[38;5;124m'\u001b[39m\n\u001b[1;32m      5\u001b[0m __version__ \u001b[38;5;241m=\u001b[39m \u001b[38;5;124m'\u001b[39m\u001b[38;5;124m1.2.3\u001b[39m\u001b[38;5;124m'\u001b[39m\n\u001b[0;32m----> 7\u001b[0m \u001b[38;5;28;01mfrom\u001b[39;00m \u001b[38;5;21;01m.\u001b[39;00m\u001b[38;5;21;01mapi\u001b[39;00m \u001b[38;5;28;01mimport\u001b[39;00m load_image_file, face_locations, batch_face_locations, face_landmarks, face_encodings, compare_faces, face_distance\n",
      "File \u001b[0;32m~/miniconda3/envs/face_detection/lib/python3.8/site-packages/face_recognition/api.py:26\u001b[0m\n\u001b[1;32m     23\u001b[0m pose_predictor_5_point \u001b[38;5;241m=\u001b[39m dlib\u001b[38;5;241m.\u001b[39mshape_predictor(predictor_5_point_model)\n\u001b[1;32m     25\u001b[0m cnn_face_detection_model \u001b[38;5;241m=\u001b[39m face_recognition_models\u001b[38;5;241m.\u001b[39mcnn_face_detector_model_location()\n\u001b[0;32m---> 26\u001b[0m cnn_face_detector \u001b[38;5;241m=\u001b[39m \u001b[43mdlib\u001b[49m\u001b[38;5;241;43m.\u001b[39;49m\u001b[43mcnn_face_detection_model_v1\u001b[49m\u001b[43m(\u001b[49m\u001b[43mcnn_face_detection_model\u001b[49m\u001b[43m)\u001b[49m\n\u001b[1;32m     28\u001b[0m face_recognition_model \u001b[38;5;241m=\u001b[39m face_recognition_models\u001b[38;5;241m.\u001b[39mface_recognition_model_location()\n\u001b[1;32m     29\u001b[0m face_encoder \u001b[38;5;241m=\u001b[39m dlib\u001b[38;5;241m.\u001b[39mface_recognition_model_v1(face_recognition_model)\n",
      "\u001b[0;31mRuntimeError\u001b[0m: Error while calling cudaGetDevice(&the_device_id) in file /tmp/pip-install-5prnabg4/dlib_622639a74c8e49a8a6f0f43c1946fb7e/dlib/cuda/gpu_data.cpp:204. code: 35, reason: CUDA driver version is insufficient for CUDA runtime version"
     ]
    }
   ],
   "source": [
    "import os\n",
    "import cv2\n",
    "import face_recognition\n",
    "import pickle\n",
    "import numpy as np\n",
    "from imutils import paths"
   ]
  },
  {
   "cell_type": "code",
   "execution_count": null,
   "metadata": {},
   "outputs": [],
   "source": [
    "def train_model(training_dir=\"Images\"):\n",
    "    known_encodings = []\n",
    "    known_names = []\n",
    "    \n",
    "    # Iterar pelas pastas de cada pessoa em Images/\n",
    "    for person_name in os.listdir(training_dir):\n",
    "        person_path = os.path.join(training_dir, person_name)\n",
    "        \n",
    "        if not os.path.isdir(person_path):\n",
    "            continue\n",
    "        \n",
    "        # Iterar pelas imagens de cada pessoa\n",
    "        for image_path in paths.list_images(person_path):\n",
    "            image = cv2.imread(image_path)\n",
    "            rgb_image = cv2.cvtColor(image, cv2.COLOR_BGR2RGB)\n",
    "            \n",
    "            # Detectar rostos na imagem e obter os encodings\n",
    "            boxes = face_recognition.face_locations(rgb_image, model='hog')\n",
    "            encodings = face_recognition.face_encodings(rgb_image, boxes)\n",
    "            \n",
    "            for encoding in encodings:\n",
    "                known_encodings.append(encoding)\n",
    "                known_names.append(person_name)\n",
    "    \n",
    "    # Salvar os encodings treinados em um arquivo\n",
    "    data = {\"encodings\": known_encodings, \"names\": known_names}\n",
    "    with open(\"face_encodings.pkl\", \"wb\") as f:\n",
    "        pickle.dump(data, f)\n",
    "    \n",
    "    print(\"[INFO] Treinamento concluído e encodings salvos.\")"
   ]
  },
  {
   "cell_type": "code",
   "execution_count": null,
   "metadata": {},
   "outputs": [],
   "source": [
    "def recognize_faces(test_dir=\"Test_Images\", encodings_file=\"face_encodings.pkl\"):\n",
    "    # Carregar os encodings treinados\n",
    "    with open(encodings_file, \"rb\") as f:\n",
    "        data = pickle.load(f)\n",
    "    \n",
    "    for image_path in paths.list_images(test_dir):\n",
    "        image = cv2.imread(image_path)\n",
    "        rgb_image = cv2.cvtColor(image, cv2.COLOR_BGR2RGB)\n",
    "        \n",
    "        # Detectar rostos na imagem de teste\n",
    "        boxes = face_recognition.face_locations(rgb_image, model='hog')\n",
    "        encodings = face_recognition.face_encodings(rgb_image, boxes)\n",
    "        \n",
    "        # Comparar com os encodings conhecidos\n",
    "        names = []\n",
    "        for encoding in encodings:\n",
    "            matches = face_recognition.compare_faces(data[\"encodings\"], encoding)\n",
    "            name = \"Nao reconhecido\"\n",
    "            \n",
    "            if True in matches:\n",
    "                matched_idxs = [i for i, match in enumerate(matches) if match]\n",
    "                counts = {}\n",
    "                \n",
    "                for i in matched_idxs:\n",
    "                    name = data[\"names\"][i]\n",
    "                    counts[name] = counts.get(name, 0) + 1\n",
    "                \n",
    "                name = max(counts, key=counts.get)\n",
    "            \n",
    "            names.append(name)\n",
    "        \n",
    "        # Exibir resultados\n",
    "        for ((top, right, bottom, left), name) in zip(boxes, names):\n",
    "            cv2.rectangle(image, (left, top), (right, bottom), (255, 0, 0), 5)\n",
    "            cv2.putText(image, name, (left, top - 10), cv2.FONT_HERSHEY_SIMPLEX, 5, (255, 0, 0), 5)\n",
    "        \n",
    "        cv2.imshow(\"Image\", image)\n",
    "        cv2.waitKey(0)\n",
    "    \n",
    "    cv2.destroyAllWindows()"
   ]
  },
  {
   "cell_type": "code",
   "execution_count": null,
   "metadata": {},
   "outputs": [],
   "source": [
    "train_model(\"Images\")"
   ]
  },
  {
   "cell_type": "code",
   "execution_count": null,
   "metadata": {},
   "outputs": [],
   "source": [
    "recognize_faces(\"Test_Images\")"
   ]
  }
 ],
 "metadata": {
  "kernelspec": {
   "display_name": "face_detection",
   "language": "python",
   "name": "python3"
  },
  "language_info": {
   "codemirror_mode": {
    "name": "ipython",
    "version": 3
   },
   "file_extension": ".py",
   "mimetype": "text/x-python",
   "name": "python",
   "nbconvert_exporter": "python",
   "pygments_lexer": "ipython3",
   "version": "3.8.19"
  }
 },
 "nbformat": 4,
 "nbformat_minor": 2
}
