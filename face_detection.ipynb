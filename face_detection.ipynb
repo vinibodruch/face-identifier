{
 "cells": [
  {
   "cell_type": "code",
   "execution_count": 1,
   "metadata": {},
   "outputs": [
    {
     "name": "stdout",
     "output_type": "stream",
     "text": [
      "Requirement already satisfied: opencv-python in ./face_detection/lib/python3.10/site-packages (4.10.0.84)\n",
      "Requirement already satisfied: numpy>=1.17.3 in ./face_detection/lib/python3.10/site-packages (from opencv-python) (1.26.4)\n",
      "Note: you may need to restart the kernel to use updated packages.\n"
     ]
    }
   ],
   "source": [
    "%pip install opencv-python \n",
    "import cv2, os"
   ]
  },
  {
   "cell_type": "code",
   "execution_count": 2,
   "metadata": {},
   "outputs": [
    {
     "name": "stderr",
     "output_type": "stream",
     "text": [
      "[ WARN:0@0.036] global loadsave.cpp:241 findDecoder imread_('lebron.jpg'): can't open/read file: check file path/integrity\n"
     ]
    },
    {
     "ename": "error",
     "evalue": "OpenCV(4.10.0) /io/opencv/modules/imgproc/src/color.cpp:196: error: (-215:Assertion failed) !_src.empty() in function 'cvtColor'\n",
     "output_type": "error",
     "traceback": [
      "\u001b[0;31m---------------------------------------------------------------------------\u001b[0m",
      "\u001b[0;31merror\u001b[0m                                     Traceback (most recent call last)",
      "Cell \u001b[0;32mIn[2], line 3\u001b[0m\n\u001b[1;32m      1\u001b[0m \u001b[38;5;66;03m#Carrega arquivo e converte para tons de cinza\u001b[39;00m\n\u001b[1;32m      2\u001b[0m i \u001b[38;5;241m=\u001b[39m cv2\u001b[38;5;241m.\u001b[39mimread(\u001b[38;5;124m'\u001b[39m\u001b[38;5;124mlebron.jpg\u001b[39m\u001b[38;5;124m'\u001b[39m)\n\u001b[0;32m----> 3\u001b[0m iPB \u001b[38;5;241m=\u001b[39m \u001b[43mcv2\u001b[49m\u001b[38;5;241;43m.\u001b[39;49m\u001b[43mcvtColor\u001b[49m\u001b[43m(\u001b[49m\u001b[43mi\u001b[49m\u001b[43m,\u001b[49m\u001b[43m \u001b[49m\u001b[43mcv2\u001b[49m\u001b[38;5;241;43m.\u001b[39;49m\u001b[43mCOLOR_BGR2GRAY\u001b[49m\u001b[43m)\u001b[49m\n\u001b[1;32m      4\u001b[0m \u001b[38;5;66;03m#Criação do detector de faces\u001b[39;00m\n\u001b[1;32m      5\u001b[0m df \u001b[38;5;241m=\u001b[39m cv2\u001b[38;5;241m.\u001b[39mCascadeClassifier(\u001b[38;5;124m'\u001b[39m\u001b[38;5;124mclassifier.xml\u001b[39m\u001b[38;5;124m'\u001b[39m)\n",
      "\u001b[0;31merror\u001b[0m: OpenCV(4.10.0) /io/opencv/modules/imgproc/src/color.cpp:196: error: (-215:Assertion failed) !_src.empty() in function 'cvtColor'\n"
     ]
    }
   ],
   "source": [
    "#Carrega arquivo e converte para tons de cinza\n",
    "i = cv2.imread('lebron.jpg')\n",
    "iPB = cv2.cvtColor(i, cv2.COLOR_BGR2GRAY)\n",
    "#Criação do detector de faces\n",
    "df = cv2.CascadeClassifier('classifier.xml')\n",
    "#Executa a detecção\n",
    "faces = df.detectMultiScale(iPB, scaleFactor = 1.05, minNeighbors = 7, \n",
    "    minSize = (30,30), flags = cv2.CASCADE_SCALE_IMAGE)\n",
    "#Desenha retangulos amarelos na iamgem original (colorida)\n",
    "for (x, y, w, h) in faces:\n",
    "    cv2.rectangle(i, (x, y), (x + w, y + h), (0, 255, 255), 7)\n",
    "#Exibe imagem. Título da janela exibe número de faces\n",
    "cv2.imshow(str(len(faces))+' face(s) encontrada(s).', i)\n",
    "cv2.waitKey(0)"
   ]
  },
  {
   "cell_type": "code",
   "execution_count": null,
   "metadata": {},
   "outputs": [],
   "source": [
    "# Carrega arquivo e converte para tons de cinza\n",
    "i = cv2.imread('lebron.jpg')\n",
    "iPB = cv2.cvtColor(i, cv2.COLOR_BGR2GRAY)\n",
    "\n",
    "# Criação do detector de faces\n",
    "df = cv2.CascadeClassifier('classifier.xml')\n",
    "\n",
    "# Executa a detecção\n",
    "faces = df.detectMultiScale(iPB, scaleFactor = 1.05, minNeighbors = 7, minSize = (30,30), flags = cv2.CASCADE_SCALE_IMAGE)\n",
    "\n",
    "# Cria pasta para salvar as faces\n",
    "output_dir = 'faces_detectadas'\n",
    "if not os.path.exists(output_dir):\n",
    "    os.makedirs(output_dir)\n",
    "\n",
    "# Salva cada face detectada na nova pasta e desenha retangulos amarelos na imagem original\n",
    "for i, (x, y, w, h) in enumerate(faces):\n",
    "    face = iPB[y:y+h, x:x+w]\n",
    "    face_filename = os.path.join(output_dir, f'face_{i}.jpg')\n",
    "    cv2.imwrite(face_filename, face)\n",
    "    cv2.rectangle(i, (x, y), (x + w, y + h), (0, 255, 255), 7)\n",
    "\n",
    "# Exibe imagem. Título da janela exibe número de faces\n",
    "cv2.imshow(str(len(faces))+' face(s) encontrada(s).', i)\n",
    "cv2.waitKey(0)\n",
    "cv2.destroyAllWindows()\n"
   ]
  },
  {
   "cell_type": "code",
   "execution_count": null,
   "metadata": {},
   "outputs": [],
   "source": [
    "# Caminho da pasta com as imagens\n",
    "input_dir = 'faces'\n",
    "output_dir = 'faces_detectadas'\n",
    "\n",
    "# Cria a pasta para salvar as faces se não existir\n",
    "if not os.path.exists(output_dir):\n",
    "    os.makedirs(output_dir)\n",
    "\n",
    "# Inicializa o detector de faces\n",
    "df = cv2.CascadeClassifier('classifier.xml')\n",
    "\n",
    "# Itera sobre todas as imagens na pasta de entrada\n",
    "for filename in os.listdir(input_dir):\n",
    "    if filename.endswith('.jpg'):\n",
    "        file_path = os.path.join(input_dir, filename)\n",
    "        i = cv2.imread(file_path)\n",
    "        iPB = cv2.cvtColor(i, cv2.COLOR_BGR2GRAY)\n",
    "\n",
    "        # Executa a detecção de faces\n",
    "        faces = df.detectMultiScale(iPB, scaleFactor=1.05, minNeighbors=7, minSize=(30,30), flags=cv2.CASCADE_SCALE_IMAGE)\n",
    "\n",
    "        # Salva cada face detectada na nova pasta\n",
    "        for j, (x, y, w, h) in enumerate(faces):\n",
    "            face = iPB[y:y+h, x:x+w]\n",
    "            face_filename = os.path.join(output_dir, f'{os.path.splitext(filename)[0]}_face_{j}.jpg')\n",
    "            cv2.imwrite(face_filename, face)\n",
    "            cv2.rectangle(i, (x, y), (x + w, y + h), (0, 255, 255), 7)\n",
    "\n",
    "        # Exibe a imagem com as faces detectadas\n",
    "        cv2.imshow(f'{filename} - {len(faces)} face(s) encontrada(s)', i)\n",
    "        cv2.waitKey(0)\n",
    "        cv2.destroyAllWindows()\n"
   ]
  }
 ],
 "metadata": {
  "kernelspec": {
   "display_name": "face_detection",
   "language": "python",
   "name": "python3"
  },
  "language_info": {
   "codemirror_mode": {
    "name": "ipython",
    "version": 3
   },
   "file_extension": ".py",
   "mimetype": "text/x-python",
   "name": "python",
   "nbconvert_exporter": "python",
   "pygments_lexer": "ipython3",
   "version": "3.10.12"
  }
 },
 "nbformat": 4,
 "nbformat_minor": 2
}
