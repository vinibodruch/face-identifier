{
 "cells": [
  {
   "cell_type": "code",
   "execution_count": 4,
   "metadata": {},
   "outputs": [
    {
     "name": "stdout",
     "output_type": "stream",
     "text": [
      "Defaulting to user installation because normal site-packages is not writeable\n",
      "Requirement already satisfied: opencv-python in c:\\users\\2101013\\appdata\\roaming\\python\\python312\\site-packages (4.10.0.84)\n",
      "Requirement already satisfied: numpy>=1.21.2 in c:\\users\\2101013\\appdata\\roaming\\python\\python312\\site-packages (from opencv-python) (2.1.1)\n",
      "Note: you may need to restart the kernel to use updated packages.\n"
     ]
    },
    {
     "name": "stderr",
     "output_type": "stream",
     "text": [
      "\n",
      "[notice] A new release of pip is available: 24.0 -> 24.2\n",
      "[notice] To update, run: python.exe -m pip install --upgrade pip\n"
     ]
    }
   ],
   "source": [
    "%pip install opencv-python \n",
    "import cv2, os"
   ]
  },
  {
   "cell_type": "code",
   "execution_count": 5,
   "metadata": {},
   "outputs": [
    {
     "data": {
      "text/plain": [
       "-1"
      ]
     },
     "execution_count": 5,
     "metadata": {},
     "output_type": "execute_result"
    }
   ],
   "source": [
    "#Carrega arquivo e converte para tons de cinza\n",
    "i = cv2.imread('lebron.jpg')\n",
    "iPB = cv2.cvtColor(i, cv2.COLOR_BGR2GRAY)\n",
    "#Criação do detector de faces\n",
    "df = cv2.CascadeClassifier('classifier.xml')\n",
    "#Executa a detecção\n",
    "faces = df.detectMultiScale(iPB, scaleFactor = 1.05, minNeighbors = 7, \n",
    "    minSize = (30,30), flags = cv2.CASCADE_SCALE_IMAGE)\n",
    "#Desenha retangulos amarelos na iamgem original (colorida)\n",
    "for (x, y, w, h) in faces:\n",
    "    cv2.rectangle(i, (x, y), (x + w, y + h), (0, 255, 255), 7)\n",
    "#Exibe imagem. Título da janela exibe número de faces\n",
    "cv2.imshow(str(len(faces))+' face(s) encontrada(s).', i)\n",
    "cv2.waitKey(0)"
   ]
  },
  {
   "cell_type": "code",
   "execution_count": 6,
   "metadata": {},
   "outputs": [],
   "source": [
    "# Carrega arquivo e converte para tons de cinza\n",
    "i = cv2.imread('lebron.jpg')\n",
    "iPB = cv2.cvtColor(i, cv2.COLOR_BGR2GRAY)\n",
    "\n",
    "# Criação do detector de faces\n",
    "df = cv2.CascadeClassifier('classifier.xml')\n",
    "\n",
    "# Executa a detecção\n",
    "faces = df.detectMultiScale(iPB, scaleFactor = 1.05, minNeighbors = 7, minSize = (30,30), flags = cv2.CASCADE_SCALE_IMAGE)\n",
    "\n",
    "# Cria pasta para salvar as faces\n",
    "output_dir = 'faces_detectadas'\n",
    "if not os.path.exists(output_dir):\n",
    "    os.makedirs(output_dir)\n",
    "\n",
    "# Salva cada face detectada na nova pasta e desenha retangulos amarelos na imagem original\n",
    "for i, (x, y, w, h) in enumerate(faces):\n",
    "    face = iPB[y:y+h, x:x+w]\n",
    "    face_filename = os.path.join(output_dir, f'face_{i}.jpg')\n",
    "    cv2.imwrite(face_filename, face)\n",
    "    cv2.rectangle(i, (x, y), (x + w, y + h), (0, 255, 255), 7)\n",
    "\n",
    "# Exibe imagem. Título da janela exibe número de faces\n",
    "cv2.imshow(str(len(faces))+' face(s) encontrada(s).', i)\n",
    "cv2.waitKey(0)\n",
    "cv2.destroyAllWindows()\n"
   ]
  },
  {
   "cell_type": "code",
   "execution_count": 10,
   "metadata": {},
   "outputs": [],
   "source": [
    "# Caminho da pasta com as imagens\n",
    "input_dir = 'faces'\n",
    "output_dir = 'faces_detectadas'\n",
    "\n",
    "# Cria a pasta para salvar as faces se não existir\n",
    "if not os.path.exists(output_dir):\n",
    "    os.makedirs(output_dir)\n",
    "\n",
    "# Inicializa o detector de faces\n",
    "df = cv2.CascadeClassifier('classifier.xml')\n",
    "\n",
    "# Itera sobre todas as imagens na pasta de entrada\n",
    "for filename in os.listdir(input_dir):\n",
    "    if filename.endswith('.jpg'):\n",
    "        file_path = os.path.join(input_dir, filename)\n",
    "        i = cv2.imread(file_path)\n",
    "        iPB = cv2.cvtColor(i, cv2.COLOR_BGR2GRAY)\n",
    "\n",
    "        # Executa a detecção de faces\n",
    "        faces = df.detectMultiScale(iPB, scaleFactor=1.05, minNeighbors=7, minSize=(30,30), flags=cv2.CASCADE_SCALE_IMAGE)\n",
    "\n",
    "        # Salva cada face detectada na nova pasta\n",
    "        for j, (x, y, w, h) in enumerate(faces):\n",
    "            face = iPB[y:y+h, x:x+w]\n",
    "            face_filename = os.path.join(output_dir, f'{os.path.splitext(filename)[0]}_face_{j}.jpg')\n",
    "            cv2.imwrite(face_filename, face)\n",
    "            cv2.rectangle(i, (x, y), (x + w, y + h), (0, 255, 255), 7)\n",
    "\n",
    "        # Exibe a imagem com as faces detectadas\n",
    "        cv2.imshow(f'{filename} - {len(faces)} face(s) encontrada(s)', i)\n",
    "        cv2.waitKey(0)\n",
    "        cv2.destroyAllWindows()\n"
   ]
  }
 ],
 "metadata": {
  "kernelspec": {
   "display_name": "Python 3",
   "language": "python",
   "name": "python3"
  },
  "language_info": {
   "codemirror_mode": {
    "name": "ipython",
    "version": 3
   },
   "file_extension": ".py",
   "mimetype": "text/x-python",
   "name": "python",
   "nbconvert_exporter": "python",
   "pygments_lexer": "ipython3",
   "version": "3.12.4"
  }
 },
 "nbformat": 4,
 "nbformat_minor": 2
}
